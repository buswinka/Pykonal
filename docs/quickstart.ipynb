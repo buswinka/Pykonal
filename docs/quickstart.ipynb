{
 "cells": [
  {
   "cell_type": "markdown",
   "metadata": {
    "collapsed": true,
    "pycharm": {
     "name": "#%% md\n"
    }
   },
   "source": [
    "\n",
    "`Instalation`\n",
    "============\n",
    "Install Pykonal with: `pip install pykonal`\n",
    "\n",
    "`Usage` \n",
    "======="
   ]
  },
  {
   "cell_type": "code",
   "execution_count": null,
   "outputs": [],
   "source": [
    "import torch\n",
    "import pykonal\n",
    "\n",
    "instance_mask = torch.load('myfile.pt')\n",
    "print(instance_mask.shape)  # [B, C, X, Y, Z]\n",
    "\n",
    "distance = pykonal.solve_eikonal(instance_mask, eps=1e-5, min_steps=200, use_triton=True)\n",
    "gradient = pykonal.gradient_from_eikonal(distance)"
   ],
   "metadata": {
    "collapsed": false,
    "pycharm": {
     "name": "#%%\n"
    }
   }
  }
 ],
 "metadata": {
  "kernelspec": {
   "display_name": "Python 3",
   "language": "python",
   "name": "python3"
  },
  "language_info": {
   "codemirror_mode": {
    "name": "ipython",
    "version": 2
   },
   "file_extension": ".py",
   "mimetype": "text/x-python",
   "name": "python",
   "nbconvert_exporter": "python",
   "pygments_lexer": "ipython2",
   "version": "2.7.6"
  }
 },
 "nbformat": 4,
 "nbformat_minor": 0
}
